{
 "cells": [
  {
   "cell_type": "markdown",
   "metadata": {},
   "source": [
    "# 2.1 创建图，启动图"
   ]
  },
  {
   "cell_type": "code",
   "execution_count": 1,
   "metadata": {},
   "outputs": [],
   "source": [
    "import warnings\n",
    "\n",
    "warnings.filterwarnings('ignore')"
   ]
  },
  {
   "cell_type": "code",
   "execution_count": 2,
   "metadata": {},
   "outputs": [],
   "source": [
    "import tensorflow as tf"
   ]
  },
  {
   "cell_type": "code",
   "execution_count": 3,
   "metadata": {},
   "outputs": [
    {
     "name": "stdout",
     "output_type": "stream",
     "text": [
      "Tensor(\"MatMul:0\", shape=(1, 1), dtype=int32)\n"
     ]
    }
   ],
   "source": [
    "##创建常量op\n",
    "m1 = tf.constant([[3,3]]) # 1*2\n",
    "m2 = tf.constant([[2],[3]]) # 2*1\n",
    "##创建一个举证乘法op\n",
    "product  = tf.matmul(m1,m2)\n",
    "print(product)"
   ]
  },
  {
   "cell_type": "code",
   "execution_count": 5,
   "metadata": {},
   "outputs": [
    {
     "name": "stdout",
     "output_type": "stream",
     "text": [
      "[[15]]\n"
     ]
    }
   ],
   "source": [
    "##定义一个会话，启动默认图\n",
    "sess = tf.Session()\n",
    "##条用sess的run方法来执行乘法op，然后乘法运算向上去找m1,m2\n",
    "result = sess.run(product)\n",
    "print(result)\n",
    "sess.close()"
   ]
  },
  {
   "cell_type": "code",
   "execution_count": 6,
   "metadata": {},
   "outputs": [
    {
     "name": "stdout",
     "output_type": "stream",
     "text": [
      "[[15]]\n"
     ]
    }
   ],
   "source": [
    "with tf.Session() as sess:\n",
    "    result = sess.run(product)\n",
    "    print(result)"
   ]
  },
  {
   "cell_type": "markdown",
   "metadata": {},
   "source": [
    "# 2.2 变量"
   ]
  },
  {
   "cell_type": "code",
   "execution_count": 7,
   "metadata": {},
   "outputs": [
    {
     "name": "stdout",
     "output_type": "stream",
     "text": [
      "[-2 -1]\n",
      "[4 5]\n"
     ]
    }
   ],
   "source": [
    "x = tf.Variable([1,2])  #变量\n",
    "a = tf.constant([3,3])  #常量\n",
    "\n",
    "##增加一个减法op\n",
    "sub = tf.subtract(x,a)\n",
    "\n",
    "##创建一个加法op\n",
    "add = tf.add(x,a)\n",
    "\n",
    "##初始化全局的变量，变量没有初始化不可使用\n",
    "init = tf.global_variables_initializer()\n",
    "\n",
    "##启动会话,开始执行op\n",
    "with tf.Session() as sess:\n",
    "    sess.run(init)\n",
    "    print(sess.run(sub))\n",
    "    print(sess.run(add))\n",
    "\n"
   ]
  },
  {
   "cell_type": "code",
   "execution_count": 8,
   "metadata": {},
   "outputs": [
    {
     "name": "stdout",
     "output_type": "stream",
     "text": [
      "0\n",
      "1\n",
      "2\n",
      "3\n",
      "4\n",
      "5\n"
     ]
    }
   ],
   "source": [
    "##创建一个变量，初始化为0\n",
    "state = tf.Variable(0,name='counter')\n",
    "##创建一个op，让state加1\n",
    "new_state = tf.add(state,1)\n",
    "##赋值op\n",
    "update = tf.assign(state,new_state)\n",
    "##变量初始化\n",
    "init = tf.global_variables_initializer()\n",
    "\n",
    "##启动会话\n",
    "with tf.Session() as sess:\n",
    "    sess.run(init)\n",
    "    print(sess.run(state))\n",
    "    for _ in range(5):\n",
    "        sess.run(update)\n",
    "        print(sess.run(state))"
   ]
  },
  {
   "cell_type": "markdown",
   "metadata": {},
   "source": [
    "# 2-3 Fetch and Feed"
   ]
  },
  {
   "cell_type": "code",
   "execution_count": 12,
   "metadata": {},
   "outputs": [
    {
     "name": "stdout",
     "output_type": "stream",
     "text": [
      "[21.0, 7.0]\n"
     ]
    }
   ],
   "source": [
    "##Fetch:在session中同时运行多个op\n",
    "input1 = tf.constant(3.0)\n",
    "input2 = tf.constant(2.0)\n",
    "input3 = tf.constant(5.0)\n",
    "\n",
    "add = tf.add(input2,input3)\n",
    "mul = tf.multiply(add,input1)\n",
    "\n",
    "with tf.Session() as sess:\n",
    "    result = sess.run([mul,add])\n",
    "    print(result)"
   ]
  },
  {
   "cell_type": "code",
   "execution_count": 15,
   "metadata": {},
   "outputs": [
    {
     "name": "stdout",
     "output_type": "stream",
     "text": [
      "[21.]\n"
     ]
    }
   ],
   "source": [
    "##Feed:\n",
    "##创建占位符\n",
    "input1 = tf.placeholder(tf.float32)\n",
    "input2 = tf.placeholder(tf.float32)\n",
    "output = tf.multiply(input1,input2)\n",
    "with tf.Session() as sess:\n",
    "    ##feed的数据以字典的形式传入\n",
    "    print(sess.run(output,feed_dict={input1:[7.],input2:[3.]}))"
   ]
  },
  {
   "cell_type": "markdown",
   "metadata": {},
   "source": [
    "# 2.4 使用Tensorflow简单案例"
   ]
  },
  {
   "cell_type": "raw",
   "metadata": {},
   "source": [
    "简单的线性模型"
   ]
  },
  {
   "cell_type": "code",
   "execution_count": 16,
   "metadata": {},
   "outputs": [],
   "source": [
    "import tensorflow as tf\n",
    "import numpy as np"
   ]
  },
  {
   "cell_type": "code",
   "execution_count": 24,
   "metadata": {},
   "outputs": [
    {
     "name": "stdout",
     "output_type": "stream",
     "text": [
      "0 [0.054605056, 0.10062256]\n",
      "20 [0.10437355, 0.19761828]\n",
      "40 [0.10284348, 0.19845155]\n",
      "60 [0.10184871, 0.19899327]\n",
      "80 [0.10120195, 0.19934547]\n",
      "100 [0.10078146, 0.19957444]\n",
      "120 [0.10050807, 0.19972333]\n",
      "140 [0.100330316, 0.19982013]\n",
      "160 [0.100214764, 0.19988306]\n",
      "180 [0.10013963, 0.19992396]\n",
      "200 [0.10009078, 0.19995056]\n"
     ]
    }
   ],
   "source": [
    "##随机产生100个随机点\n",
    "x_data = np.random.rand(100)\n",
    "y_data = x_data*0.1 + 0.2\n",
    "\n",
    "##构造一个线性模型\n",
    "w = tf.Variable(0.)\n",
    "b = tf.Variable(0.)\n",
    "y = w*x_data + b\n",
    "\n",
    "##二次代价函数(MSE)\n",
    "loss = tf.reduce_mean(tf.square(y-y_data))\n",
    "\n",
    "##定义一个梯度下降法来训练优化器(下降系数是0.2)\n",
    "optimizer = tf.train.GradientDescentOptimizer(0.2)\n",
    "\n",
    "##最小化损失函数\n",
    "train = optimizer.minimize(loss)\n",
    "\n",
    "##初始化变量\n",
    "init = tf.global_variables_initializer()\n",
    "\n",
    "with tf.Session() as sess:\n",
    "    sess.run(init)\n",
    "    for step in range(201):\n",
    "        sess.run(train)\n",
    "        if step%20 == 0 :\n",
    "            print (step,sess.run([w,b]))"
   ]
  },
  {
   "cell_type": "code",
   "execution_count": 34,
   "metadata": {},
   "outputs": [
    {
     "name": "stdout",
     "output_type": "stream",
     "text": [
      "0 [0.025124604, 0.049567588]\n",
      "20 [0.100650996, 0.1990484]\n",
      "40 [0.100716576, 0.19963449]\n",
      "60 [0.10057076, 0.1997105]\n",
      "80 [0.10045409, 0.19976969]\n",
      "100 [0.100361265, 0.19981676]\n",
      "120 [0.100287415, 0.19985422]\n",
      "140 [0.100228675, 0.19988401]\n",
      "160 [0.10018193, 0.19990773]\n",
      "180 [0.10014475, 0.19992658]\n",
      "200 [0.10011517, 0.19994159]\n"
     ]
    }
   ],
   "source": [
    "##创建数据\n",
    "\n",
    "##随机产生100个随机点\n",
    "x_data = np.random.rand(100)\n",
    "y_train = x_data*0.1 + 0.2\n",
    "\n",
    "##构造一个线性模型\n",
    "w = tf.Variable(0.)\n",
    "b = tf.Variable(0.)\n",
    "y = w*x_data + b\n",
    "\n",
    "\n",
    "##1.定义损失函数()\n",
    "loss = tf.reduce_mean(tf.square(y_train-y))\n",
    "##2.定义优化算法\n",
    "optimizer = tf.train.GradientDescentOptimizer(0.1)\n",
    "##3.使用优化算法最小化损失函数\n",
    "train = optimizer.minimize(loss)\n",
    "\n",
    "##初始化变量\n",
    "init = tf.global_variables_initializer()\n",
    "\n",
    "with tf.Session() as sess:\n",
    "    sess.run(init)\n",
    "    \n",
    "    for step in range(201):\n",
    "        sess.run(train)\n",
    "        if step%20 == 0:\n",
    "            print(step,sess.run([w,b]))"
   ]
  },
  {
   "cell_type": "code",
   "execution_count": null,
   "metadata": {},
   "outputs": [],
   "source": []
  }
 ],
 "metadata": {
  "kernelspec": {
   "display_name": "Python 3",
   "language": "python",
   "name": "python3"
  },
  "language_info": {
   "codemirror_mode": {
    "name": "ipython",
    "version": 3
   },
   "file_extension": ".py",
   "mimetype": "text/x-python",
   "name": "python",
   "nbconvert_exporter": "python",
   "pygments_lexer": "ipython3",
   "version": "3.6.5"
  }
 },
 "nbformat": 4,
 "nbformat_minor": 2
}
